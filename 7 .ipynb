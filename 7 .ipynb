{
 "cells": [
  {
   "cell_type": "code",
   "execution_count": 10,
   "id": "06244b90",
   "metadata": {},
   "outputs": [
    {
     "name": "stdout",
     "output_type": "stream",
     "text": [
      "Data successfully saved to C:\\Users\\aishw\\Downloads\\output.csv\n",
      "Data successfully saved to C:\\Users\\aishw\\Downloads\\wine_data.json\n"
     ]
    }
   ],
   "source": [
    "import pandas as pd\n",
    "\n",
    "# Step 1: Load data from Excel file\n",
    "excel_file = r'C:\\Users\\aishw\\Downloads\\wine.xlsx'  \n",
    "# Replace with your Excel file path\n",
    "df = pd.read_excel(excel_file, sheet_name='wine')  \n",
    "# You can adjust the sheet name if needed\n",
    "\n",
    "# Step 2: Save the DataFrame to a CSV file\n",
    "csv_file = r'C:\\Users\\aishw\\Downloads\\output.csv'  \n",
    "# Replace with the desired output CSV file path\n",
    "df.to_csv(csv_file, index=False)  \n",
    "# index=False prevents pandas from writing row indices\n",
    "\n",
    "print(f\"Data successfully saved to {csv_file}\")\n",
    "\n",
    "\n",
    "import pandas as pd\n",
    "\n",
    "# Load the Excel file\n",
    "excel_file = r'C:\\Users\\aishw\\Downloads\\wine.xlsx'  # Use raw string or double backslashes\n",
    "df = pd.read_excel(excel_file, sheet_name='wine')  # Adjust the sheet name if needed\n",
    "\n",
    "# Convert to JSON and save\n",
    "json_file = r'C:\\Users\\aishw\\Downloads\\wine_data.json'\n",
    "df.to_json(json_file, orient='records', indent=4)\n",
    "\n",
    "print(f\"Data successfully saved to {json_file}\")"
   ]
  },
  {
   "cell_type": "code",
   "execution_count": null,
   "id": "aff3f3fe",
   "metadata": {},
   "outputs": [],
   "source": []
  },
  {
   "cell_type": "code",
   "execution_count": null,
   "id": "d5f6bec6",
   "metadata": {},
   "outputs": [],
   "source": []
  }
 ],
 "metadata": {
  "kernelspec": {
   "display_name": "Python 3 (ipykernel)",
   "language": "python",
   "name": "python3"
  },
  "language_info": {
   "codemirror_mode": {
    "name": "ipython",
    "version": 3
   },
   "file_extension": ".py",
   "mimetype": "text/x-python",
   "name": "python",
   "nbconvert_exporter": "python",
   "pygments_lexer": "ipython3",
   "version": "3.11.5"
  }
 },
 "nbformat": 4,
 "nbformat_minor": 5
}
